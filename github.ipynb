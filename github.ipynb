{
 "cells": [
  {
   "cell_type": "markdown",
   "metadata": {},
   "source": [
    "💡 STARTING A PROJECT"
   ]
  },
  {
   "cell_type": "raw",
   "metadata": {
    "vscode": {
     "languageId": "plaintext"
    }
   },
   "source": [
    "git init\n",
    "→ Start version control in a new project folder.\n",
    "\n",
    "git clone <repo-url>\n",
    "→ Copy an existing GitHub repo to your machine."
   ]
  },
  {
   "cell_type": "markdown",
   "metadata": {},
   "source": [
    "📦 STAGING & COMMITTING CHANGES"
   ]
  },
  {
   "cell_type": "raw",
   "metadata": {
    "vscode": {
     "languageId": "raw"
    }
   },
   "source": [
    "git status\n",
    "→ Check which files are changed or untracked.\n",
    "\n",
    "git add .\n",
    "→ Stage ALL files for commit.\n",
    "\n",
    "git add <filename>\n",
    "→ Stage a specific file only.\n",
    "\n",
    "git commit -m \"your message\"\n",
    "→ Save staged changes with a message."
   ]
  },
  {
   "cell_type": "markdown",
   "metadata": {},
   "source": [
    "🔁 SYNC WITH GITHUB"
   ]
  },
  {
   "cell_type": "raw",
   "metadata": {},
   "source": [
    "git push origin main\n",
    "→ Upload your local commits to GitHub.\n",
    "\n",
    "git pull origin main\n",
    "→ Download updates from GitHub to your local repo."
   ]
  },
  {
   "cell_type": "markdown",
   "metadata": {},
   "source": [
    "🌿 WORKING WITH BRANCHES"
   ]
  },
  {
   "cell_type": "raw",
   "metadata": {
    "vscode": {
     "languageId": "raw"
    }
   },
   "source": [
    "git branch\n",
    "→ See list of all branches and current one.\n",
    "\n",
    "git checkout -b new-branch\n",
    "→ Create and switch to a new branch.\n",
    "\n",
    "git checkout main\n",
    "→ Switch back to main branch.\n",
    "\n",
    "git merge <branch-name>\n",
    "→ Merge another branch into the current one."
   ]
  },
  {
   "cell_type": "markdown",
   "metadata": {},
   "source": [
    "🔍 CHECKING CHANGES & HISTORY"
   ]
  },
  {
   "cell_type": "raw",
   "metadata": {
    "vscode": {
     "languageId": "raw"
    }
   },
   "source": [
    "git log\n",
    "→ Show commit history.\n",
    "\n",
    "git diff\n",
    "→ Show file changes not yet staged.\n",
    "\n",
    "git diff --staged\n",
    "→ Show changes that are staged but not committed."
   ]
  },
  {
   "cell_type": "markdown",
   "metadata": {},
   "source": [
    "❌ UNDOING MISTAKES (Use with caution!)"
   ]
  },
  {
   "cell_type": "raw",
   "metadata": {
    "vscode": {
     "languageId": "raw"
    }
   },
   "source": [
    "git reset --hard\n",
    "→ Remove ALL local changes, reset to last commit.\n",
    "\n",
    "git restore <filename>\n",
    "→ Undo changes in a file before staging."
   ]
  },
  {
   "cell_type": "markdown",
   "metadata": {},
   "source": [
    "📁 FILE MANAGEMENT (LOCAL)"
   ]
  },
  {
   "cell_type": "raw",
   "metadata": {},
   "source": [
    "cd <folder>\n",
    "→ Move into a directory.\n",
    "\n",
    "cd ..\n",
    "→ Move up one directory.\n",
    "\n",
    "ls\n",
    "→ List files in current directory.\n",
    "\n",
    "mkdir <folder-name>\n",
    "→ Create a new folder.\n",
    "\n",
    "touch <file-name>\n",
    "→ Create a new file.\n",
    "\n",
    "rm <file-name>\n",
    "→ Delete a file.\n",
    "\n",
    "rm -r <folder-name>\n",
    "→ Delete a folder and its contents.\n",
    "\n",
    "mv <old-name> <new-path-or-name>\n",
    "→ Move or rename a file/folder.\n",
    "\n",
    "cp <source> <destination>\n",
    "→ Copy file/folder to a new location.\n"
   ]
  },
  {
   "cell_type": "markdown",
   "metadata": {},
   "source": [
    "🗑️ Deleting the git tracking from the current folder"
   ]
  },
  {
   "cell_type": "raw",
   "metadata": {
    "vscode": {
     "languageId": "raw"
    }
   },
   "source": [
    "Remove-Item -Recurse -Force .git"
   ]
  },
  {
   "cell_type": "markdown",
   "metadata": {},
   "source": [
    "🔗 Linking to the repo"
   ]
  },
  {
   "cell_type": "raw",
   "metadata": {
    "vscode": {
     "languageId": "raw"
    }
   },
   "source": [
    "git remote add origin https://github.com/your-username/my-ml-models.git"
   ]
  },
  {
   "cell_type": "markdown",
   "metadata": {},
   "source": [
    "🫸 Git push"
   ]
  },
  {
   "cell_type": "raw",
   "metadata": {
    "vscode": {
     "languageId": "raw"
    }
   },
   "source": [
    "git push -u origin master"
   ]
  },
  {
   "cell_type": "raw",
   "metadata": {
    "vscode": {
     "languageId": "raw"
    }
   },
   "source": [
    "git push -u origin main"
   ]
  },
  {
   "cell_type": "markdown",
   "metadata": {},
   "source": [
    "🎯 COMMON ML ENGINEER USES\n",
    "- Track notebook and script changes.\n",
    "- Try new models in branches (`checkout -b`).\n",
    "- Sync datasets/configs with GitHub.\n",
    "- Collaborate without overwriting code.\n",
    "- Deploy models from version-controlled code.\n"
   ]
  },
  {
   "cell_type": "markdown",
   "metadata": {},
   "source": [
    "✅ Only these are needed for 95% of ML workflows."
   ]
  }
 ],
 "metadata": {
  "language_info": {
   "name": "python"
  }
 },
 "nbformat": 4,
 "nbformat_minor": 2
}
